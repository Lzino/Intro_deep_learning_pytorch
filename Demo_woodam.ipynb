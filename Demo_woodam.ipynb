{
 "cells": [
  {
   "cell_type": "markdown",
   "metadata": {},
   "source": [
    "## (DEMO) Deep Neural Network Tutorial"
   ]
  },
  {
   "cell_type": "markdown",
   "metadata": {},
   "source": [
    "신경망 맛보기 튜토리얼입니다. \n",
    "\n",
    "github 에 자신의 결과물을 올리고 공유해주세요"
   ]
  },
  {
   "cell_type": "markdown",
   "metadata": {},
   "source": [
    "모든 유튜브 비디오의 Reference\n",
    "\n",
    "* PyTorch Zero To All Lecture by Sung Kim hunkim+ml@gmail.com at HKUST\n",
    "* Code: https://github.com/hunkim/PyTorchZeroToAll \n",
    "* Slides: http://bit.ly/PyTorchZeroAll"
   ]
  },
  {
   "cell_type": "markdown",
   "metadata": {},
   "source": [
    "### 데이터 살펴보기"
   ]
  },
  {
   "cell_type": "code",
   "execution_count": 1,
   "metadata": {},
   "outputs": [],
   "source": [
    "from IPython.display import YouTubeVideo\n",
    "import time\n",
    "import numpy as np\n",
    "import matplotlib\n",
    "import matplotlib.pylab as plt"
   ]
  },
  {
   "cell_type": "code",
   "execution_count": 2,
   "metadata": {},
   "outputs": [],
   "source": [
    "np.random.seed(777)  # 동일한 숫자가 나오게 시드를 고정 시켜야합니다.\n",
    "x1 = np.random.normal(loc=-2, scale=1, size=(50, 2))\n",
    "##x2 = np.random.normal(loc=1, scale=1.5, size=(50, 2))\n",
    "##Y define ??\n",
    "\n",
    "y1 = np.random.normal(loc=1, scale=1.5, size=(50, 2))\n",
    "classes = np.repeat([0, 1], 50)\n",
    "\n",
    "\n",
    "def plot(x, y, tag, ax):\n",
    "    \"\"\"\n",
    "    x: 데이터의 x 좌표\n",
    "    y: 데이터의 y 좌표\n",
    "    tag: class 의 이름입니다. 0번일 경우 빨강, 1번일 경우 파랑색, 기타의 경우 노란색으로 표시됩니다.\n",
    "    ax: matplotlib axes 객체입니다. 아래 실습의 경우 \"ax\" 를 넣으면 됩니다.\n",
    "    \"\"\"\n",
    "    color = 'red' if tag == 0 else 'blue' if tag==1 else 'yellow' \n",
    "    ax.scatter(x, y, c=color)"
   ]
  },
  {
   "cell_type": "markdown",
   "metadata": {},
   "source": [
    "위에서 우리는 랜덤 데이터를 생성했습니다. $x_1$, $x_2$ 각 50개의 2차원 데이터가 있고, $x_1$ 의 클래스는 0(빨강색), $x_2$ 의 클래스는 1(파랑색)로 가정합니다. 이제 데이터가 2차원 평면에 어떻게 펼쳐져 있는지 알아봅니다."
   ]
  },
  {
   "cell_type": "markdown",
   "metadata": {},
   "source": [
    "### [실습] 그려보기\n",
    "\n",
    "데이터가 2차원에서 어떻게 펼쳐져 있는지 확인해봅니다. 위에서 제시한 `plot` 함수를 사용해서 2차원에 그려보세요!"
   ]
  },
  {
   "cell_type": "code",
   "execution_count": 3,
   "metadata": {
    "scrolled": true
   },
   "outputs": [
    {
     "data": {
      "image/png": "[encoded data removed]",
      "text/plain": [
       "<Figure size 432x288 with 1 Axes>"
      ]
     },
     "metadata": {},
     "output_type": "display_data"
    }
   ],
   "source": [
    "fig, ax = plt.subplots()\n",
    "# 위에 코드를 건드리지 마세요\n",
    "# TODO: 데이터를 2차원 평면에 그려보세요. \n",
    "\n",
    "plot(x1,y1,1,ax)\n",
    "# 힌트: 위에서 제시한 plot 함수를 사용해보세요. 추가로, ax 인자에는 ax 변수를 넣으면 됩니다.\n",
    "\n",
    "plt.show(block=False)"
   ]
  },
  {
   "cell_type": "markdown",
   "metadata": {},
   "source": [
    "### 선형모델로 데이터 분류하기\n",
    "\n",
    "(선형모델의 개념설명)\n",
    "\n",
    "우리에게는 2차원의 데이터 $x$ 가 있고, $x$ 를 통해서 결과값인 $y$ 빨강점과 파랑점을 잘 구별하고 싶다. 고등학교 수학때 배운 함수를 생각해보자.\n",
    "\n",
    "$$y = f(x)$$\n",
    "\n",
    "위에 표시된 함수는 우리가 원하는 결과물인것 같다. $x$를 넣으면 $y$ 라는 값이 나오는 함수. 그렇다면 이 $f$ 라는 함수를 어떻게 설계를 해야할까? 아래 영상을 통해 1차원 데이터의 모델설계부터 모델훈련까지 공부해봅니다."
   ]
  },
  {
   "cell_type": "code",
   "execution_count": 4,
   "metadata": {
    "scrolled": false
   },
   "outputs": [
    {
     "data": {
      "image/jpeg": "[encoded data removed]",
      "text/html": [
       "\n",
       "        <iframe\n",
       "            width=\"600\"\n",
       "            height=\"400\"\n",
       "            src=\"https://www.youtube.com/embed/l-Fe9Ekxxj4\"\n",
       "            frameborder=\"0\"\n",
       "            allowfullscreen\n",
       "        ></iframe>\n",
       "        "
      ],
      "text/plain": [
       "<IPython.lib.display.YouTubeVideo at 0x1cac3dcd8d0>"
      ]
     },
     "execution_count": 4,
     "metadata": {},
     "output_type": "execute_result"
    }
   ],
   "source": [
    "# 해당 코드를 실행하면 영상이 나옵니다.\n",
    "YouTubeVideo(\"l-Fe9Ekxxj4\", width=600, height=400)"
   ]
  },
  {
   "cell_type": "markdown",
   "metadata": {},
   "source": [
    "**핵심개념**\n",
    "\n",
    "* Linear regression\n",
    "* Training Loss:"
   ]
  },
  {
   "cell_type": "markdown",
   "metadata": {},
   "source": [
    "이제 아래와 같은 가설을 세워보겠습니다. $x_1$ 과 $x_2$ 의 선형결합으로 점들을 구별하는 모델이 우리의 함수 $f$ 라고 가설을 세울수 있습니다.\n",
    "\n",
    "$\\hat{y} = w_1x_1 + w_2x_2 + b$\n",
    "\n",
    "손실값은 어떻게 정의할까요? 우리의 결과 $y$ 값은 0(빨강색) 아니면 1(파랑색) 로 정의 됩니다.\n",
    "\n",
    "$L = \\displaystyle\\sum_{i=1}^{N}(\\hat{y}-y)^2$\n",
    "\n",
    "따라서 $L$ 값이 커질수록 오차가 커져서 우리가 세운 가설이 데이터를 예측하는데 도움이 안된다는 것을 알려줍니다."
   ]
  },
  {
   "cell_type": "markdown",
   "metadata": {},
   "source": [
    "### [실습] 가설구현\n",
    "\n",
    "2차원 데이터 하나 $x$의 예측값을 구하는 함수 `forward` 와 해당 예측값과 실제 값의 차이인 `loss` 함수를 작성해봅니다."
   ]
  },
  {
   "cell_type": "code",
   "execution_count": 4,
   "metadata": {},
   "outputs": [],
   "source": [
    "x2 = np.random.normal(loc=1, scale=1.5, size=(50, 2))"
   ]
  },
  {
   "cell_type": "code",
   "execution_count": 5,
   "metadata": {
    "scrolled": true
   },
   "outputs": [
    {
     "name": "stdout",
     "output_type": "stream",
     "text": [
      "초기 w 값은 [ 1.422 -1.91 ] b 값은 [0.318] 이다.\n"
     ]
    }
   ],
   "source": [
    "x_data = np.concatenate((x1, x2))\n",
    "y_data = classes\n",
    "w = np.random.randn(2)  # (w1, w2) 가중치 랜덤한 초기값 설정\n",
    "b = np.random.randn(1)  # (b) bias 값 설정\n",
    "\n",
    "print(\"초기 w 값은\", f\"{w.round(3)}\", \"b 값은\", f\"{b.round(3)}\", \"이다.\")\n",
    "# 위에 코드를 건드리지 마세요\n",
    "\n",
    "def forward(x, w, b):\n",
    "    \"\"\"\n",
    "    가설: y = w1*x1 + w2*x2 + b\n",
    "    x: 2차원 np.array 객체\n",
    "    w: 2차원 np.array 객체\n",
    "    \"\"\" \n",
    "    # TODO: 2차원 데이터 1 개의 예측값을 구해보자\n",
    "    # 아래 식과 같은 결과를 나타내야 합니다. 힌트: np.dot 을 활용해보세요\n",
    "    # x[0] * w[0] + x[1] * w[1] + b \n",
    "    # 정답\n",
    "    return np.dot(x,w) + b \n",
    "\n",
    "def loss_function(y_hat, y):\n",
    "    \"\"\"\n",
    "    손실함수: (y_hat - y) 의 제곱\n",
    "    \"\"\"\n",
    "    # TODO: 예측값 1개에 대해서 손실값을 구해보자\n",
    "    # 정답\n",
    "    return np.square(y_hat-y)\n",
    "\n",
    "##square 함수 알려주어야 하지 않나요 ??\n"
   ]
  },
  {
   "cell_type": "markdown",
   "metadata": {},
   "source": [
    "아래 코드를 실행시켜 모든 데이터들에 대해서 손실함수의 평균을 구해봅니다."
   ]
  },
  {
   "cell_type": "code",
   "execution_count": 6,
   "metadata": {},
   "outputs": [
    {
     "name": "stdout",
     "output_type": "stream",
     "text": [
      "loss 평균은 8.6196 이다.\n"
     ]
    }
   ],
   "source": [
    "losses = []\n",
    "for x, y in zip(x_data, y_data):\n",
    "    y_hat = forward(x, w, b)\n",
    "    loss = loss_function(y_hat, y)\n",
    "    losses.append(loss)\n",
    "\n",
    "print(\"loss 평균은\", f\"{np.mean(losses):.4f}\", \"이다.\")"
   ]
  },
  {
   "cell_type": "markdown",
   "metadata": {},
   "source": [
    "**[질문]** 손실값이 큰편인가요? 손실값이 어느정도 되야 가설로 세운 모델이 점들을 판별할수 있을까요?"
   ]
  },
  {
   "cell_type": "markdown",
   "metadata": {},
   "source": [
    "(답변을 해당칸에 작성하세요) 0에 가까울수록 좋을것같아요"
   ]
  },
  {
   "cell_type": "markdown",
   "metadata": {},
   "source": [
    "### 학습의 진행: Gradient Descent"
   ]
  },
  {
   "cell_type": "code",
   "execution_count": null,
   "metadata": {
    "scrolled": false
   },
   "outputs": [],
   "source": [
    "# 해당 코드를 실행하면 영상이 나옵니다.\n",
    "YouTubeVideo(\"b4Vyma9wPHo\", width=600, height=400)"
   ]
  },
  {
   "cell_type": "markdown",
   "metadata": {},
   "source": [
    "미분 "
   ]
  },
  {
   "cell_type": "markdown",
   "metadata": {},
   "source": [
    "$\\begin{aligned} \n",
    "\\dfrac{\\partial loss}{\\partial w_1} &= 2 (\\hat{y}-y)(x_1) \\\\\n",
    "\\dfrac{\\partial loss}{\\partial w_2} &= 2 (\\hat{y}-y)(x_2) \\\\\n",
    "\\dfrac{\\partial loss}{\\partial b} &= 2 (\\hat{y}-y)\\times 1\n",
    "\\end{aligned}$"
   ]
  },
  {
   "cell_type": "code",
   "execution_count": 7,
   "metadata": {},
   "outputs": [],
   "source": [
    "def gradient(x, y, w, b):\n",
    "    \"\"\"\n",
    "    w 와 d 에대한 미분을 구하는 함수입니다.\n",
    "    \"\"\"\n",
    "    dw = 2 * (forward(x, w, b) - y) * x\n",
    "    db = 2 * (forward(x, w, b) - y)\n",
    "    return dw, db"
   ]
  },
  {
   "cell_type": "code",
   "execution_count": 8,
   "metadata": {},
   "outputs": [],
   "source": [
    "def backward(x, y, w, b, lr=0.1):\n",
    "    \"\"\"\n",
    "    경사하강법으로 업데이트 합니다.\n",
    "    \"\"\"\n",
    "    dw, db = gradient(x, y, w, b)\n",
    "    w -= lr * dw\n",
    "    b -= lr * db\n",
    "    return w, b"
   ]
  },
  {
   "cell_type": "code",
   "execution_count": 9,
   "metadata": {},
   "outputs": [],
   "source": [
    "def train(x, y, w, b, lr=0.01):\n",
    "    \"\"\"\n",
    "    가중치를 훈련 시키는 함수입니다.\n",
    "    \"\"\"\n",
    "    y_hat = forward(x, w, b)\n",
    "    loss = loss_function(y_hat, y)\n",
    "    w, b = backward(x, y, w, b, lr=lr)\n",
    "    return loss, w, b"
   ]
  },
  {
   "cell_type": "markdown",
   "metadata": {},
   "source": [
    "에폭(epoch)이란 학습용 데이터를 한번 순환했을 때를 말합니다. Step 이라고도 합니다."
   ]
  },
  {
   "cell_type": "code",
   "execution_count": 10,
   "metadata": {},
   "outputs": [
    {
     "name": "stdout",
     "output_type": "stream",
     "text": [
      "(Epoch 0) Loss: 1.7408 | W: [ 0.216 -0.003] | b: [0.479]\n",
      "(Epoch 1) Loss: 0.0761 | W: [0.094 0.063] | b: [0.67]\n",
      "(Epoch 2) Loss: 0.0584 | W: [0.07  0.055] | b: [0.743]\n",
      "(Epoch 3) Loss: 0.0593 | W: [0.062 0.05 ] | b: [0.769]\n",
      "(Epoch 4) Loss: 0.0604 | W: [0.06  0.048] | b: [0.778]\n"
     ]
    }
   ],
   "source": [
    "for epoch in range(5):\n",
    "    losses = []\n",
    "    for x, y in zip(x_data, y_data):\n",
    "        loss, w, b = train(x, y, w, b, lr=0.01)\n",
    "        losses.append(loss)\n",
    "    print(\"(Epoch {}) Loss: {:.4f} | W: {} | b: {}\".format(epoch, np.mean(losses), w.round(3), b.round(3)))"
   ]
  },
  {
   "cell_type": "code",
   "execution_count": 11,
   "metadata": {},
   "outputs": [
    {
     "data": {
      "image/png": "[encoded data removed]",
      "text/plain": [
       "<Figure size 432x288 with 1 Axes>"
      ]
     },
     "metadata": {},
     "output_type": "display_data"
    }
   ],
   "source": [
    "from mpl_toolkits.mplot3d import Axes3D\n",
    "\n",
    "colors = ['red', 'blue']\n",
    "fig, ax = plt.subplots()\n",
    "ax.scatter(x_data[:, 0], x_data[:, 1], c=y_data, cmap=matplotlib.colors.ListedColormap(colors), alpha=0.2)\n",
    "xs = np.linspace(-5, 5, num=20).reshape(20, 1).repeat(2, axis=1)\n",
    "predicts = forward(xs, w, b)\n",
    "predicts = (predicts >= 0.5).astype(np.int)\n",
    "ax.scatter(xs[:, 0], xs[:, 1], c=predicts, cmap=matplotlib.colors.ListedColormap(colors))\n",
    "plt.show(block=False)"
   ]
  },
  {
   "cell_type": "markdown",
   "metadata": {},
   "source": [
    "**[질문]** 예측 결과가 생각만큼 나왔나요? 어느정도의 오차가 있는것 같나요?"
   ]
  },
  {
   "cell_type": "markdown",
   "metadata": {},
   "source": [
    "(답변을 해당칸에 작성하세요) loss 0.06이면 괜찮다고 생각"
   ]
  },
  {
   "cell_type": "markdown",
   "metadata": {},
   "source": [
    "### 나의 첫 신경망 만들기: Logistic Regression\n",
    "\n",
    "* 목적: 두 클래스를 분류하는 Neural Network 만들기\n",
    "\n",
    "아래 동영상을 시청하고 두 개의 클래스를 구분하는 신경망을 만들어 보아요!"
   ]
  },
  {
   "cell_type": "code",
   "execution_count": null,
   "metadata": {
    "scrolled": false
   },
   "outputs": [],
   "source": [
    "# 해당 코드를 실행하면 영상이 나옵니다.\n",
    "YouTubeVideo(\"GAKTBQn7yKo\", width=600, height=400)"
   ]
  },
  {
   "cell_type": "code",
   "execution_count": 12,
   "metadata": {},
   "outputs": [],
   "source": [
    "import torch\n",
    "import torch.nn as nn\n",
    "import torch.optim as optim\n",
    "\n",
    "x_data = torch.FloatTensor(x_data)\n",
    "y_data = torch.FloatTensor(y_data)"
   ]
  },
  {
   "cell_type": "code",
   "execution_count": 13,
   "metadata": {},
   "outputs": [],
   "source": [
    "class Net(nn.Module):\n",
    "    def __init__(self, input_size, hidden_size, output_size):\n",
    "        super(Net, self).__init__()\n",
    "        self.linear_1 = nn.Linear(input_size, hidden_size)\n",
    "        self.activation_1 = nn.Sigmoid()\n",
    "        self.linear_2 = nn.Linear(hidden_size, output_size)\n",
    "        self.prob = nn.Sigmoid()\n",
    "    \n",
    "    def forward(self, inputs):\n",
    "        outputs = self.linear_1(inputs)\n",
    "        outputs = self.activation_1(outputs)\n",
    "        outputs = self.linear_2(outputs)\n",
    "        outputs = self.prob(outputs)\n",
    "        return outputs\n",
    "    \n",
    "    \n",
    "## 무슨 네트워크인지 설명추가하면 좋을것 같아요"
   ]
  },
  {
   "cell_type": "code",
   "execution_count": 14,
   "metadata": {},
   "outputs": [],
   "source": [
    "model = Net(input_size=2, hidden_size=10, output_size=1)"
   ]
  },
  {
   "cell_type": "code",
   "execution_count": 15,
   "metadata": {},
   "outputs": [
    {
     "data": {
      "text/plain": [
       "tensor([0.5230], grad_fn=<SigmoidBackward>)"
      ]
     },
     "execution_count": 15,
     "metadata": {},
     "output_type": "execute_result"
    }
   ],
   "source": [
    "inputs = x_data[0]\n",
    "model(inputs)"
   ]
  },
  {
   "cell_type": "markdown",
   "metadata": {},
   "source": [
    "최종 모델의 출력 결과가 0.5 보다 크면 0 클래스로 분류 아니면 1 클래스로 분류하게 됩니다."
   ]
  },
  {
   "cell_type": "code",
   "execution_count": 16,
   "metadata": {},
   "outputs": [
    {
     "name": "stdout",
     "output_type": "stream",
     "text": [
      "Training Loss: 0.2783556216210127\n",
      "Training Loss: 0.23498018109239638\n",
      "Training Loss: 0.17498268496943636\n",
      "Training Loss: 0.15564191767713054\n",
      "Training Loss: 0.1475540573359467\n",
      "Training Loss: 0.14327357775124255\n",
      "Training Loss: 0.14062425811309368\n",
      "Training Loss: 0.1388202197337523\n",
      "Training Loss: 0.13752007806615438\n",
      "Training Loss: 0.1365482272283407\n"
     ]
    }
   ],
   "source": [
    "loss_function = nn.BCELoss()\n",
    "optimizer = optim.SGD(model.parameters(), lr=0.1)\n",
    "\n",
    "for step in range(10):\n",
    "    losses = []\n",
    "    for x, y in zip(x_data, y_data):\n",
    "        model.zero_grad()\n",
    "        # forward\n",
    "        prob = model(x)\n",
    "        # loss\n",
    "        loss = loss_function(prob, y.view(-1))\n",
    "        # backward\n",
    "        loss.backward()\n",
    "        optimizer.step()\n",
    "        # save loss\n",
    "        losses.append(loss.item())\n",
    "    print(\"Training Loss: {}\".format(np.mean(losses)))"
   ]
  },
  {
   "cell_type": "markdown",
   "metadata": {},
   "source": [
    "### 테스트 해보기"
   ]
  },
  {
   "cell_type": "code",
   "execution_count": 17,
   "metadata": {
    "scrolled": true
   },
   "outputs": [
    {
     "data": {
      "image/png": "[encoded data removed]",
      "text/plain": [
       "<Figure size 432x288 with 1 Axes>"
      ]
     },
     "metadata": {},
     "output_type": "display_data"
    }
   ],
   "source": [
    "fig, ax = plt.subplots()\n",
    "ax.scatter(x_data[:, 0], x_data[:, 1], c=y_data, cmap=matplotlib.colors.ListedColormap(colors), alpha=0.2)\n",
    "xs = np.linspace(-5, 5, num=20).reshape(20, 1).repeat(2, axis=1)\n",
    "predicts = model(torch.FloatTensor(xs))\n",
    "predicts = predicts.ge(0.5).numpy()\n",
    "ax.scatter(xs[:, 0], xs[:, 1], c=predicts.reshape(-1), cmap=matplotlib.colors.ListedColormap(colors))\n",
    "plt.show(block=False)"
   ]
  },
  {
   "cell_type": "markdown",
   "metadata": {},
   "source": [
    "**[질문]** 위의 선형 모델과 비교했을때, 예측 결과가 생각만큼 나왔나요? 어느정도의 오차가 있는것 같나요?"
   ]
  },
  {
   "cell_type": "markdown",
   "metadata": {},
   "source": [
    "(답변을 해당칸에 작성하세요) 요게 어렵네요 근데 loss는 비슷하네요 "
   ]
  },
  {
   "cell_type": "markdown",
   "metadata": {},
   "source": [
    "### [실습] 3개의 클래스를 판별하는 네트워크 만들기\n",
    "\n",
    "이전 과는 다르게 손실함수를 다른 것을 써야한다는 점을 유의하자. (Cross Entorpy, Softmax 설명 필요)"
   ]
  },
  {
   "cell_type": "code",
   "execution_count": 18,
   "metadata": {},
   "outputs": [],
   "source": [
    "np.random.seed(777)  # 동일한 숫자가 나오게 시드를 고정 시켜야합니다.\n",
    "x1 = np.random.normal(loc=-2, scale=1, size=(100, 2))\n",
    "x2 = np.random.normal(loc=(-2, 6), scale=1.5, size=(100, 2))\n",
    "x3 = np.random.normal(loc=(4, 2), scale=1.5, size=(100, 2))\n",
    "classes = np.repeat([0, 1, 2], 100)\n",
    "x_data = torch.FloatTensor(np.concatenate((x1, x2, x3)))\n",
    "y_data = torch.LongTensor(classes)"
   ]
  },
  {
   "cell_type": "code",
   "execution_count": 19,
   "metadata": {
    "scrolled": false
   },
   "outputs": [
    {
     "data": {
      "image/png": "[encoded data removed]",
      "text/plain": [
       "<Figure size 432x288 with 1 Axes>"
      ]
     },
     "metadata": {},
     "output_type": "display_data"
    }
   ],
   "source": [
    "fig, ax = plt.subplots()\n",
    "# TODO: 데이터를 2차원 평면에 그려보세요\n",
    "# 정답\n",
    "plot(x1,x2,1,ax)\n",
    "plt.show(block=False)\n",
    "##????"
   ]
  },
  {
   "cell_type": "code",
   "execution_count": 20,
   "metadata": {},
   "outputs": [],
   "source": [
    "import torch.nn.functional as F"
   ]
  },
  {
   "cell_type": "code",
   "execution_count": 21,
   "metadata": {},
   "outputs": [],
   "source": [
    "# TODO: 3개의 클래스를 판별하는 네트워크를 만들어 보세요.\n",
    "class Net(nn.Module):\n",
    "    def __init__(self, input_size, hidden_size, output_size):\n",
    "        super(Net, self).__init__()\n",
    "        self.linear_1 = nn.Linear(input_size, hidden_size)\n",
    "        self.activation_1 = nn.ReLU()\n",
    "        self.linear_2 = nn.Linear(hidden_size, output_size)\n",
    "        self.prob = nn.Softmax()\n",
    "        \n",
    "    def forward(self, inputs):\n",
    "        outputs = self.linear_1(inputs)\n",
    "        outputs = self.activation_1(outputs)\n",
    "        outputs = self.linear_2(outputs)\n",
    "        outputs = self.prob(outputs)\n",
    "        return outputs"
   ]
  },
  {
   "cell_type": "code",
   "execution_count": 22,
   "metadata": {},
   "outputs": [],
   "source": [
    "model = Net(input_size=2, hidden_size=10, output_size=3)"
   ]
  },
  {
   "cell_type": "code",
   "execution_count": 23,
   "metadata": {},
   "outputs": [
    {
     "name": "stderr",
     "output_type": "stream",
     "text": [
      "C:\\ProgramData\\Anaconda3\\lib\\site-packages\\ipykernel_launcher.py:14: UserWarning: Implicit dimension choice for softmax has been deprecated. Change the call to include dim=X as an argument.\n",
      "  \n"
     ]
    },
    {
     "data": {
      "text/plain": [
       "tensor([0.2127, 0.6121, 0.1753], grad_fn=<SoftmaxBackward>)"
      ]
     },
     "execution_count": 23,
     "metadata": {},
     "output_type": "execute_result"
    }
   ],
   "source": [
    "inputs = x_data[0]\n",
    "model(inputs)"
   ]
  },
  {
   "cell_type": "markdown",
   "metadata": {},
   "source": [
    "손실함수는 어떻게 정의해야할까요? 아래 손실함수 중에 제일 적합한 것을 골라서 적용해보세요\n",
    "\n",
    "* nn.NLLLoss() : Negative Log Likelihood Loss\n",
    "* nn.MSELoss() : Mean Square Error Loss\n",
    "* nn.BCELoss() : Binary Cross Entropy Loss\n",
    "* nn.CrossEntropyLoss() : Cross Entropy Loss"
   ]
  },
  {
   "cell_type": "code",
   "execution_count": 24,
   "metadata": {},
   "outputs": [
    {
     "name": "stderr",
     "output_type": "stream",
     "text": [
      "C:\\ProgramData\\Anaconda3\\lib\\site-packages\\ipykernel_launcher.py:14: UserWarning: Implicit dimension choice for softmax has been deprecated. Change the call to include dim=X as an argument.\n",
      "  \n"
     ]
    },
    {
     "name": "stdout",
     "output_type": "stream",
     "text": [
      "Training Loss: 0.599097061753273\n",
      "Training Loss: 0.5644811189174652\n",
      "Training Loss: 0.5596203903357188\n",
      "Training Loss: 0.5584486587842306\n",
      "Training Loss: 0.5581183473269145\n",
      "Training Loss: 0.5580817266305288\n",
      "Training Loss: 0.5580352725585301\n",
      "Training Loss: 0.5580770178635915\n",
      "Training Loss: 0.5584155384699504\n",
      "Training Loss: 0.5591922811667125\n"
     ]
    }
   ],
   "source": [
    "# TODO: 손실함수 적용\n",
    "##좋은 문제 !!\n",
    "loss_function = nn.CrossEntropyLoss()\n",
    "optimizer = optim.SGD(model.parameters(), lr=0.1)\n",
    "\n",
    "for epoch in range(10):\n",
    "    losses = []\n",
    "    for x, y in zip(x_data, y_data):\n",
    "        model.zero_grad()\n",
    "        # forward\n",
    "        prob = model(x)\n",
    "        # loss\n",
    "        loss = loss_function(prob.view(1, -1), y.view(-1))\n",
    "        # backward\n",
    "        loss.backward()\n",
    "        optimizer.step()\n",
    "        # save loss\n",
    "        losses.append(loss.item())\n",
    "    print(\"Training Loss: {}\".format(np.mean(losses)))"
   ]
  },
  {
   "cell_type": "code",
   "execution_count": 25,
   "metadata": {},
   "outputs": [
    {
     "name": "stdout",
     "output_type": "stream",
     "text": [
      "예측한 class: 2\n"
     ]
    },
    {
     "name": "stderr",
     "output_type": "stream",
     "text": [
      "C:\\ProgramData\\Anaconda3\\lib\\site-packages\\ipykernel_launcher.py:14: UserWarning: Implicit dimension choice for softmax has been deprecated. Change the call to include dim=X as an argument.\n",
      "  \n"
     ]
    }
   ],
   "source": [
    "# Todo3: 아래 데이터를 넣고 판별하시고 자신이 생각하는 것과 일치하는 지 보세요\n",
    "x_test = torch.FloatTensor([3, 2])\n",
    "predicted_class = model(x_test).max(-1)[1].item()\n",
    "print(\"예측한 class: {}\".format(predicted_class))"
   ]
  },
  {
   "cell_type": "markdown",
   "metadata": {},
   "source": [
    "**[질문]** 자신이 생각한 클래스와 일치한가요? 손실함수는 무엇을 쓰셨나요? 왜 해당 손실함수를 사용하셨나요?"
   ]
  },
  {
   "cell_type": "markdown",
   "metadata": {},
   "source": [
    "(답변을 해당칸에 작성하세요) 진리의 cross entropy. 다분류는 크로스 엔트로피가 짱 "
   ]
  },
  {
   "cell_type": "markdown",
   "metadata": {},
   "source": [
    "## 제출 준비\n",
    "\n",
    "`File > Save and Checkpoint` 를 눌러서 저장하시고 아래 코드를 실행시켜서 제출을 준비하세요! 자신의 노트북 파일을 한번 실행 시켜서 Github 에 업로드하시고, 하단의 코드창 `github_link` 변수에 string type 으로 링크를 적어주세요. \n",
    "\n",
    "Github 업로드 후, 링크를 적고나면 맨 아래의 제출 코드들을 실행합니다. (이전 코드는 다시 실행할 필요가 없습니다.)"
   ]
  },
  {
   "cell_type": "code",
   "execution_count": null,
   "metadata": {},
   "outputs": [],
   "source": [
    "# 하단에 github 링크입력 후 실행 (github 링크를 넣지 않으면 파일 제출 자체가 불가능합니다.)\n",
    "# github_link : master branch 에 있는 링크를 주세요!\n",
    "# 예시: \n",
    "# github_link = 'https://github.com/simonjisu/review_demo/blob/master/notebooks/DemoAnswer.ipynb'\n",
    "github_link = "
   ]
  },
  {
   "cell_type": "markdown",
   "metadata": {},
   "source": [
    "---"
   ]
  },
  {
   "cell_type": "markdown",
   "metadata": {},
   "source": [
    "## 제출"
   ]
  },
  {
   "cell_type": "markdown",
   "metadata": {},
   "source": [
    "(위의 경계선 이하의 행들은 py 파일로 전환되지 않습니다.)"
   ]
  },
  {
   "cell_type": "markdown",
   "metadata": {},
   "source": [
    "github 업로드 방법은 아래와 같습니다.\n",
    "\n",
    "```\n",
    "$ git add [업로드 하려고 하는 jupyter notebook]\n",
    "$ git commit -m '[쓰고자하는 메세지]'\n",
    "$ git push\n",
    "```"
   ]
  },
  {
   "cell_type": "markdown",
   "metadata": {},
   "source": [
    "깃허브에 자신의 노트북을 업로드 완료후, 아래에 링크를 다시한번 입력하시고 실행하여 제출을 준비하세요! 결과물은 outputs 라는 파일안에 있습니다."
   ]
  },
  {
   "cell_type": "code",
   "execution_count": null,
   "metadata": {},
   "outputs": [],
   "source": [
    "github_link = \n",
    "### 아래 코드를 수정하지마세요\n",
    "import os\n",
    "import sys\n",
    "sys.path.insert(0, os.path.split(os.getcwd())[0])\n",
    "from review_system.run_submit import submit\n",
    "submit(github_link)"
   ]
  },
  {
   "cell_type": "markdown",
   "metadata": {},
   "source": [
    "**\"파일 제출 준비 완료!\"** 라는 메세지가 뜨면, \"outputs\" 라는 폴더를 zip 파일로 압축 시키고 edwith 에 제출하세요!"
   ]
  }
 ],
 "metadata": {
  "kernelspec": {
   "display_name": "Python 3",
   "language": "python",
   "name": "python3"
  },
  "language_info": {
   "codemirror_mode": {
    "name": "ipython",
    "version": 3
   },
   "file_extension": ".py",
   "mimetype": "text/x-python",
   "name": "python",
   "nbconvert_exporter": "python",
   "pygments_lexer": "ipython3",
   "version": "3.6.5"
  }
 },
 "nbformat": 4,
 "nbformat_minor": 2
}
